{
  "nbformat": 4,
  "nbformat_minor": 0,
  "metadata": {
    "kernelspec": {
      "display_name": "Python 3",
      "language": "python",
      "name": "python3"
    },
    "language_info": {
      "codemirror_mode": {
        "name": "ipython",
        "version": 3
      },
      "file_extension": ".py",
      "mimetype": "text/x-python",
      "name": "python",
      "nbconvert_exporter": "python",
      "pygments_lexer": "ipython3",
      "version": "3.7.6-final"
    },
    "colab": {
      "name": "01_prise_en_main.ipynb",
      "provenance": []
    }
  },
  "cells": [
    {
      "cell_type": "markdown",
      "metadata": {
        "id": "sHpgYwjMR_8y"
      },
      "source": [
        "# TD 1: Environnement de programmation et premiers pas avec Python"
      ]
    },
    {
      "cell_type": "markdown",
      "metadata": {
        "id": "U6uQWV4IR_9R"
      },
      "source": [
        "---\n",
        "\n",
        "## 1.Vérification de l'installation de l'environnement de programmation\n",
        "\n",
        "Avant de débuter ce td, vous devez avoir suivi la procédure d'installation [INSTALL.md](https://github.com/uvsq-info/l1-python/blob/master/INSTALL.md) si vous utilisez votre ordinateur personnel. Et, que vous utilisiez votre ordinateur personnel ou bien un ordinateur du cartable numérique, vous avez testé toutes les étapes du [tutoriel de prise en main de l'environnement de programmation](https://github.com/uvsq-info/l1-python/blob/master/README.md) jusqu'à la partie **utilisation du projet dans un terminal**. Si un des tests ne marche pas, appelez un enseignant. Si vous ne réusissez pas à exécuter le code du notebook, et en attendant que l'on vienne vous aider, vous pouvez travailler en utilisant un [notebook en ligne](https://colab.research.google.com/notebooks/intro.ipynb). Le notebook en ligne est aussi une solution pour programmer depuis chez vous si vous n'avez pas installé l'environnement correctement. Mais la solution privilégiée reste d'installer l'environnement.\n",
        "\n",
        "Tout au long du travail que vous ferez sur le notebook, pensez à le sauvegarder en cliquant sur l'icône en haut à gauche du notebook. A la fin du td, mais également à la fin de chaque section du notebook, pensez à sauvegardez votre travail sur votre compte github. \n",
        "\n",
        "Ce td commence en présentiel, et la fin sera traitée dans le td à distance de la semaine prochaine.\n",
        "\n"
      ]
    },
    {
      "cell_type": "markdown",
      "metadata": {
        "id": "xM8fFy1zR_9U"
      },
      "source": [
        "---\n",
        "## 2.Utilisation du notebook Python\n",
        "\n",
        "Dans un premier temps, nous allons voir comment utiliser le notebook. Le notebook permet d'écrire du code que l'on peut évaluer au fur et à mesure. Plus tard, nous programmerons dans un fichier texte, en utilisant l'éditeur VisualStudioCode (VSCode dans la suite) et l'environnement qu'il fournit pour écrire des programmes en Python. \n",
        "\n",
        "Un notebook contient des *cellules* qui sont de deux sortes: il y a des cellules de texte écrites dans un langage de mise en forme de texte appelé *Markdown*, et les cellules de code que vous allez remplir. Les cellules de code sont précédées de crochets `[-]` avec un tiret ou un numéro dedans (notez que la présentation peut être différente avec un autre éditeur de notebook).\n",
        "\n",
        "1. Dans la cellule de code suivante, tapez `1 + 1` puis évaluez la cellule en cliquant sur la flèche verte en haut à gauche de la cellule.\n",
        "\n",
        "\n"
      ]
    },
    {
      "cell_type": "code",
      "metadata": {
        "colab": {
          "base_uri": "https://localhost:8080/"
        },
        "id": "xSDSnPxvR_9W",
        "outputId": "a9bf25ac-000b-4e91-d065-251615fd90e0"
      },
      "source": [
        "1+1"
      ],
      "execution_count": 8,
      "outputs": [
        {
          "output_type": "execute_result",
          "data": {
            "text/plain": [
              "2"
            ]
          },
          "metadata": {},
          "execution_count": 8
        }
      ]
    },
    {
      "cell_type": "markdown",
      "metadata": {
        "id": "FiEzvVwLR_9X"
      },
      "source": [
        "2. Cliquez de nouveau sur cette cellule et appuyez sur les touches `SHIFT + ENTREE` du clavier.\n",
        "\n",
        "**Note**: Cela évalue également la cellule de code. Remarquez le numéro qui s'affiche dans les crochets: c'est *l'ordre d'évaluation* de la cellule. \n",
        "\n",
        "3. Dans la cellule suivante, affectez le résultat de l'expression `1 + 1` à une variable notée `a`. Bien entendu, évaluez la cellule (on ne le rappellera pas systématiquement)."
      ]
    },
    {
      "cell_type": "code",
      "metadata": {
        "id": "C_9htctpR_9b"
      },
      "source": [
        "a=1+1"
      ],
      "execution_count": 9,
      "outputs": []
    },
    {
      "cell_type": "markdown",
      "metadata": {
        "id": "eLC2rfWAR_9c"
      },
      "source": [
        "4. Remarquez que l'évaluation de cette cellule ne génère aucun *texte  en sortie*. Pour connaître la valeur de la variable `a`, tapez le nom de la variable dans la cellule suivante."
      ]
    },
    {
      "cell_type": "code",
      "metadata": {
        "colab": {
          "base_uri": "https://localhost:8080/"
        },
        "id": "ncMQDONDR_9d",
        "outputId": "1ca793ba-7cec-4a1e-d98a-7c19de4b7822"
      },
      "source": [
        "a"
      ],
      "execution_count": 10,
      "outputs": [
        {
          "output_type": "execute_result",
          "data": {
            "text/plain": [
              "2"
            ]
          },
          "metadata": {},
          "execution_count": 10
        }
      ]
    },
    {
      "cell_type": "markdown",
      "metadata": {
        "id": "NcpjeHuAR_9e"
      },
      "source": [
        "5. Testez maintenant l'expression `print(a)`."
      ]
    },
    {
      "cell_type": "code",
      "metadata": {
        "tags": [],
        "colab": {
          "base_uri": "https://localhost:8080/"
        },
        "id": "mGvJmi83R_9e",
        "outputId": "cbf6b6d9-d3ee-43be-c8ff-44c441432769"
      },
      "source": [
        "print(a)"
      ],
      "execution_count": 11,
      "outputs": [
        {
          "output_type": "stream",
          "name": "stdout",
          "text": [
            "2\n"
          ]
        }
      ]
    },
    {
      "cell_type": "markdown",
      "metadata": {
        "id": "PTQ4i2h5R_9f"
      },
      "source": [
        "Le résultat est identique. La première méthode fonctionne dans le notebook, mais pas dans un programme Python. C'est pourquoi il vaut mieux utiliser la deuxième méthode qui repose sur l'utilisation de la *fonction native* `print()`. L'ensemble de ces fonctions est [disponible ici](https://docs.python.org/fr/3.5/library/functions.html).\n",
        "\n",
        "6. Augmentez de 1 la valeur de `a`. L'expression doit donner le bon résultat quelle que soit la valeur de la variable."
      ]
    },
    {
      "cell_type": "code",
      "metadata": {
        "id": "2dUWeFQoR_9f"
      },
      "source": [
        "a+=1"
      ],
      "execution_count": 12,
      "outputs": []
    },
    {
      "cell_type": "markdown",
      "metadata": {
        "id": "-uSW1qi9R_9g"
      },
      "source": [
        "Et vérifiez en affichant la valeur de `a`."
      ]
    },
    {
      "cell_type": "code",
      "metadata": {
        "tags": [],
        "colab": {
          "base_uri": "https://localhost:8080/"
        },
        "id": "r9UsZZgNR_9g",
        "outputId": "3a31fd62-e5b2-4334-ff05-6e31eaee0d27"
      },
      "source": [
        "print(a)"
      ],
      "execution_count": 13,
      "outputs": [
        {
          "output_type": "stream",
          "name": "stdout",
          "text": [
            "3\n"
          ]
        }
      ]
    },
    {
      "cell_type": "markdown",
      "metadata": {
        "id": "W8LIP6nER_9g"
      },
      "source": [
        "7. Ré-évaluez toutes les cellules où vous avez affiché la valeur de `a`. Que remarquez-vous? On voit ici que ce qui compte dans le notebook est *l'ordre d'évaluation* et non pas *l'ordre d'apparition* des cellules. Ce comportement est source d'erreur, il faut donc bien y faire attention.\n",
        "\n",
        "8. Sans écrire de code supplémentaire, augmentez encore de 1 la valeur de `a`, et vérifiez que ça a bien fonctionné.\n",
        "\n",
        "**Note**: les 5 questions suivantes sont relatives à l'usage du notebook dans VSCode. Si vous travaillez avec un autre type de notebook, il est possible que vous n'ayez pas accès à toutes ces fonctionnalités.\n",
        "\n",
        "9. Parmi les icônes qui apparaissent en haut du notebook, trouvez celui qui affiche `clear all output`. Cliquez dessus, puis ré-évaluez la variable `a`.\n",
        "\n",
        "10. Parmi les icônes qui apparaissent en haut du notebook, trouvez celui qui affiche `show variables active in jupyter kernel`. Cliquez dessus et regardez le résultat. Cet outil est très utile pour comprendre les erreurs liées à l'ordre d'évaluation des cellules.\n",
        "\n",
        "11. Parmi les icônes qui apparaissent en haut du notebook, trouvez celui qui affiche `restart IPython kernel`. Cliquez dessus et regardez le résultat dans l'affichage des variables. Ré-évaluez la variable `a`. Que se passe-t'il?\n",
        "\n",
        "12. Dans cette même barre, trouvez l'icône qui permet d'évaluer toutes les cellules se trouvant au-dessus de ce bloc de texte.\n",
        "\n",
        "13. Enfin, sauvegardez votre travail.\n",
        "\n",
        "14. Dans la cellule suivante, affectez la valeur 5 à la variable `a` et la valeur 2 à la variable `b`, puis afficher les 2 valeurs avec l'expression `print(a, b)`.\n"
      ]
    },
    {
      "cell_type": "code",
      "metadata": {
        "id": "2ftiFg4uTQwE"
      },
      "source": [
        ""
      ],
      "execution_count": 13,
      "outputs": []
    },
    {
      "cell_type": "code",
      "metadata": {
        "id": "KUlqDmNSTRCT"
      },
      "source": [
        "a,b=5,2"
      ],
      "execution_count": 14,
      "outputs": []
    },
    {
      "cell_type": "code",
      "metadata": {
        "tags": [],
        "colab": {
          "base_uri": "https://localhost:8080/"
        },
        "id": "Y2x80S-GR_9h",
        "outputId": "54affeba-3d08-4084-bbac-0e94755bc3f3"
      },
      "source": [
        "print(a,b)"
      ],
      "execution_count": 15,
      "outputs": [
        {
          "output_type": "stream",
          "name": "stdout",
          "text": [
            "5 2\n"
          ]
        }
      ]
    },
    {
      "cell_type": "markdown",
      "metadata": {
        "id": "8r-GYPPIR_9i"
      },
      "source": [
        "15. Ecrivez le code qui permet d'échanger la valeur des variables `a` et `b`. Puis affichez leurs valeurs."
      ]
    },
    {
      "cell_type": "code",
      "metadata": {
        "tags": [],
        "id": "-teOy5vpR_9i"
      },
      "source": [
        "a,b=b,a"
      ],
      "execution_count": 16,
      "outputs": []
    },
    {
      "cell_type": "markdown",
      "metadata": {
        "id": "KvTsHGQCR_9i"
      },
      "source": [
        "16. Pour enrichir l'affichage, recopiez l'expression `print(\"a vaut\", a, \"et b vaut\", b)`."
      ]
    },
    {
      "cell_type": "code",
      "metadata": {
        "tags": [],
        "colab": {
          "base_uri": "https://localhost:8080/"
        },
        "id": "AYx6lrqFR_9j",
        "outputId": "f2e7ac98-1bfd-4566-9848-845a92732bd2"
      },
      "source": [
        "print(\"a vaut\", a, \"et b vaut\", b)"
      ],
      "execution_count": 17,
      "outputs": [
        {
          "output_type": "stream",
          "name": "stdout",
          "text": [
            "a vaut 2 et b vaut 5\n"
          ]
        }
      ]
    },
    {
      "cell_type": "markdown",
      "metadata": {
        "id": "Jg7k_U-cR_9j"
      },
      "source": [
        "17.  Recopiez l'affectation suivante `a = \"hello world\"`, puis affichez la valeur de `a`."
      ]
    },
    {
      "cell_type": "code",
      "metadata": {
        "tags": [],
        "id": "sYqj-io_R_9k"
      },
      "source": [
        "a = \"hello world\""
      ],
      "execution_count": 18,
      "outputs": []
    },
    {
      "cell_type": "markdown",
      "metadata": {
        "id": "lLxLpxn7R_9k"
      },
      "source": [
        "**Note**: la variable `a` contenait un entier, et maintenant une chaîne de caractères. En Python les variables ont un *type dynamique* contrairement au type statique où le type des variables est défini une fois pour toutes. De plus ce typage est *implicite*, c'est-à-dire qu'il est déterminé par les objets auxquels les variables font référence sans avoir besoin de l'écrire explicitement.\n",
        "\n",
        "18. Afficher de nouveau la valeur de `a` sans utiliser la fonction `print`. Que constatez-vous?\n",
        "\n",
        "19. Avant de passer à la suite, sauvegardez votre notebook, et sauvegardez le sur github."
      ]
    },
    {
      "cell_type": "markdown",
      "metadata": {
        "id": "7v3IawzfR_9k"
      },
      "source": [
        "\n",
        "-------------------\n",
        "## 3.Types de données\n",
        "En Python, toute variable ou expression possède un *type* qui définit, entre autres, les opérations que l'on peut lui  appliquer. Parmi les types natifs on peut citer les nombres entiers, les nombres flottants, les chaînes de caractères (string en anglais) et les booléens (Vrai ou Faux).\n",
        "\n",
        "\n",
        "1. Prédisez le type de chacune des expressions suivantes. Vérifiez le à l'aide de la fonction `type()`:\n",
        "\n",
        "* `5`\n",
        "* `5.0`\n",
        "* `\"5\"`\n",
        "* `-5`\n",
        "* `5 / 2`\n",
        "* `5 // 2`\n",
        "* ` 5 == 2  `\n",
        "* `5 = 2`"
      ]
    },
    {
      "cell_type": "code",
      "metadata": {
        "colab": {
          "base_uri": "https://localhost:8080/",
          "height": 129
        },
        "id": "EVWL03HWR_9l",
        "outputId": "7170945f-8414-4770-fe9a-c03b8d944ad7"
      },
      "source": [
        ""
      ],
      "execution_count": 21,
      "outputs": [
        {
          "output_type": "error",
          "ename": "SyntaxError",
          "evalue": "ignored",
          "traceback": [
            "\u001b[0;36m  File \u001b[0;32m\"<ipython-input-21-a741f11c5241>\"\u001b[0;36m, line \u001b[0;32m1\u001b[0m\n\u001b[0;31m    type(5=2)\u001b[0m\n\u001b[0m        ^\u001b[0m\n\u001b[0;31mSyntaxError\u001b[0m\u001b[0;31m:\u001b[0m keyword can't be an expression\n"
          ]
        }
      ]
    },
    {
      "cell_type": "markdown",
      "metadata": {
        "id": "2QfQ-7TpR_9m"
      },
      "source": [
        "Ce sont les types de base du langage Python que nous allons étudier dans la suite. Notez que les nombres flottants s'écrivent avec un point et non avec une virgule.\n",
        "\n",
        "2. Faites la même chose avec les expressions suivantes:\n",
        "\n",
        "* `(5, 2)`\n",
        "* `[5, 2]`\n",
        "* `{5, 2}`\n"
      ]
    },
    {
      "cell_type": "code",
      "metadata": {
        "colab": {
          "base_uri": "https://localhost:8080/"
        },
        "id": "jPx3YHImR_9m",
        "outputId": "6ae018e9-34d4-4505-9073-5ad91be3b5b3"
      },
      "source": [
        "t=[5,2]\n",
        "type(t)"
      ],
      "execution_count": 29,
      "outputs": [
        {
          "output_type": "execute_result",
          "data": {
            "text/plain": [
              "list"
            ]
          },
          "metadata": {},
          "execution_count": 29
        }
      ]
    },
    {
      "cell_type": "markdown",
      "metadata": {
        "id": "FeckHJuyR_9m"
      },
      "source": [
        "Ce sont des types avancés, qui permettent de construire des structures de données plus complexes, que nous apprendrons à manipuler plus tard. Pouvez-vous trouver une expression ayant un autre type?  Vous pouvez consulter la [documentation Python sur les types](https://docs.python.org/fr/3/library/stdtypes.html).\n",
        "\n",
        "3. Maintenant, affectez une valeur à une variable `x`, et écrivez le code qui affiche, par exemple, `le type de x est <class 'int'>` si jamais la valeur stockée dans `x` est un entier.\n"
      ]
    },
    {
      "cell_type": "code",
      "metadata": {
        "tags": [],
        "colab": {
          "base_uri": "https://localhost:8080/"
        },
        "id": "TU1OW6XcR_9n",
        "outputId": "108fb73e-3ee7-4483-9d0b-a2f8e1a6f4bf"
      },
      "source": [
        "x=8\n",
        "if x==int(x):\n",
        "  print(\"le type de x est <class 'int'>\")"
      ],
      "execution_count": 37,
      "outputs": [
        {
          "output_type": "stream",
          "name": "stdout",
          "text": [
            "le type de x est <class 'int'>\n"
          ]
        }
      ]
    },
    {
      "cell_type": "markdown",
      "metadata": {
        "id": "NnHccz6zR_9n"
      },
      "source": [
        "\n",
        "### 3.1 Type numérique entier\n",
        "\n",
        "1. Affectez une valeur entière à une variable `v`.\n"
      ]
    },
    {
      "cell_type": "code",
      "metadata": {
        "id": "OuT84pOPR_9o"
      },
      "source": [
        "v=149"
      ],
      "execution_count": 34,
      "outputs": []
    },
    {
      "cell_type": "markdown",
      "metadata": {
        "id": "iK9WTSmIR_9o"
      },
      "source": [
        "2. Ecrivez le résultat de la division entière de `v` par 11. Par exemple, si `v` vaut 149, le résultat affiché doit être de la forme: \n",
        "\n",
        "`149 = 13 x 11 + 6`"
      ]
    },
    {
      "cell_type": "code",
      "metadata": {
        "tags": [],
        "colab": {
          "base_uri": "https://localhost:8080/"
        },
        "id": "Ta2AER4UR_9o",
        "outputId": "7d1266ad-1c3c-4e86-f1c6-f9fe59f7f040"
      },
      "source": [
        "print(v,\"=\",v//11,\"* 11 +\",v%11)"
      ],
      "execution_count": 39,
      "outputs": [
        {
          "output_type": "stream",
          "name": "stdout",
          "text": [
            "149 = 13 * 11 + 6\n"
          ]
        }
      ]
    },
    {
      "cell_type": "markdown",
      "metadata": {
        "id": "ToezYaSgR_9p"
      },
      "source": [
        "3. Prédisez le résultat des expressions suivantes, puis évaluer le code:\n",
        "* `3 * (10 / 3)`\n",
        "* `3 * (10 // 3)`\n",
        "* `(3 * 10) // 3`"
      ]
    },
    {
      "cell_type": "code",
      "metadata": {
        "colab": {
          "base_uri": "https://localhost:8080/"
        },
        "id": "Sv4zGlwGR_9p",
        "outputId": "0c4411c7-95c7-41c6-efc1-0692fef056b7"
      },
      "source": [
        "print((3 * 10) // 3)"
      ],
      "execution_count": 27,
      "outputs": [
        {
          "output_type": "stream",
          "name": "stdout",
          "text": [
            "10\n"
          ]
        }
      ]
    },
    {
      "cell_type": "markdown",
      "metadata": {
        "id": "YWHoHLFKR_9p"
      },
      "source": [
        "5. Le résultat change-t'il si on retire les parenthèses des expressions précédentes?"
      ]
    },
    {
      "cell_type": "markdown",
      "metadata": {
        "id": "lRnZwBZ7R_9q"
      },
      "source": [
        "\n",
        "6. Affectez un nombre entier à une variable, puis écrivez une expression qui affiche `True` si la variable est paire et `False` sinon."
      ]
    },
    {
      "cell_type": "code",
      "metadata": {
        "tags": [],
        "colab": {
          "base_uri": "https://localhost:8080/"
        },
        "id": "aBpO9iMoR_9q",
        "outputId": "b8e5fea2-726b-42cc-d3d3-ecb2eb11a07e"
      },
      "source": [
        "t=int(15)\n",
        "t%2==0"
      ],
      "execution_count": 41,
      "outputs": [
        {
          "output_type": "execute_result",
          "data": {
            "text/plain": [
              "False"
            ]
          },
          "metadata": {},
          "execution_count": 41
        }
      ]
    },
    {
      "cell_type": "markdown",
      "metadata": {
        "id": "AQgXMPMWR_9q"
      },
      "source": [
        "7. L'opérateur puissance s'écrit `**`. Par exemple, 2 à la puissance 10 s'écrit `2 ** 10`. Affichez la valeur de 2 puissance 256. Combien de chiffres a ce nombre (en évitant de compter sur l'écran)?"
      ]
    },
    {
      "cell_type": "code",
      "metadata": {
        "tags": [],
        "colab": {
          "base_uri": "https://localhost:8080/"
        },
        "id": "8tfoPQbNR_9r",
        "outputId": "89515656-0c42-4bb9-9c6c-fadb5af8f089"
      },
      "source": [
        "print(len(str(2**256)))"
      ],
      "execution_count": 45,
      "outputs": [
        {
          "output_type": "stream",
          "name": "stdout",
          "text": [
            "78\n"
          ]
        }
      ]
    },
    {
      "cell_type": "markdown",
      "metadata": {
        "id": "MnQHYy7WR_9r"
      },
      "source": [
        "**Note**:  les nombres entiers ont une précision arbitraire."
      ]
    },
    {
      "cell_type": "raw",
      "metadata": {
        "id": "VZktEmSkR_90"
      },
      "source": [
        "Ecrire l'expression qui donne le dernier chiffre du nombre référencé par la variable `a`."
      ]
    },
    {
      "cell_type": "raw",
      "metadata": {
        "id": "UB3PKqlDR_95"
      },
      "source": [
        "Ecrire l'expression qui donne l'avant-dernier chiffre du nombre référencé par la variable `a`."
      ]
    },
    {
      "cell_type": "markdown",
      "metadata": {
        "id": "O3Mb68h7R_96"
      },
      "source": [
        "\n",
        "### 3.2 Nombres flottants\n",
        "\n",
        "1. L'expression `0.2 + 0.4` est-elle égale, supérieure ou inférieure à `0.6`?"
      ]
    },
    {
      "cell_type": "code",
      "metadata": {
        "tags": [],
        "colab": {
          "base_uri": "https://localhost:8080/"
        },
        "id": "SADqo9_uR_96",
        "outputId": "6ea3a5f0-78a8-45e7-fbac-5d8f2dca9479"
      },
      "source": [
        "print(0.2 + 0.4)"
      ],
      "execution_count": 46,
      "outputs": [
        {
          "output_type": "stream",
          "name": "stdout",
          "text": [
            "0.6000000000000001\n"
          ]
        }
      ]
    },
    {
      "cell_type": "markdown",
      "metadata": {
        "id": "9eH7Ec1aR_97"
      },
      "source": [
        "2. Affectez la valeur 0.5 à une variable `x`. Multipliez `x` par $2^{30}$ puis convertissez le résultat obtenu en valeur entière (utilisez la fonction `int()`) puis divisez le résultat par $2^{30}$ (faire une division flottante)."
      ]
    },
    {
      "cell_type": "code",
      "metadata": {
        "tags": [],
        "colab": {
          "base_uri": "https://localhost:8080/"
        },
        "id": "wmegUaH_R_97",
        "outputId": "484152ef-fa9a-4c05-9cf2-91f0c1560c4e"
      },
      "source": [
        "x=0.9\n",
        "print(int(x*2**30)//2**30)"
      ],
      "execution_count": 53,
      "outputs": [
        {
          "output_type": "stream",
          "name": "stdout",
          "text": [
            "0\n"
          ]
        }
      ]
    },
    {
      "cell_type": "markdown",
      "metadata": {
        "id": "3_1fIEfwR_97"
      },
      "source": [
        "3. Remplacez la valeur de `x` par 0.1 et refaites le calcul."
      ]
    },
    {
      "cell_type": "markdown",
      "metadata": {
        "id": "MDZ44MNUR_98"
      },
      "source": [
        "4. Pouvez-vous trouver d'autres valeurs de `x` pour lesquelles l'expression calculée redonne la valeur de `x`?\n",
        "\n",
        "**Note**: les nombres flottants que l'on manipule sont en fait une approximation de ces nombres. Pour plus de détails, vous pouvez consulter [cet article](https://docs.python.org/fr/3.8/tutorial/floatingpoint.html)."
      ]
    },
    {
      "cell_type": "markdown",
      "metadata": {
        "id": "tKK_-6iHR_98"
      },
      "source": [
        "### 3.3 Chaînes de caractères"
      ]
    },
    {
      "cell_type": "markdown",
      "metadata": {
        "id": "PLZgAc1xR_99"
      },
      "source": [
        "1. Dans la cellule de code suivante, affichez le résultat de l'expression `a + b`, et de `b + a`"
      ]
    },
    {
      "cell_type": "code",
      "metadata": {
        "tags": [],
        "colab": {
          "base_uri": "https://localhost:8080/"
        },
        "id": "_QMjM2iIR_99",
        "outputId": "42a4ca98-4899-4e94-e3af-c85606acb4d9"
      },
      "source": [
        "a = \"hello\"\n",
        "b = 'world'\n",
        "print(a,b)"
      ],
      "execution_count": 55,
      "outputs": [
        {
          "output_type": "stream",
          "name": "stdout",
          "text": [
            "hello world\n"
          ]
        }
      ]
    },
    {
      "cell_type": "markdown",
      "metadata": {
        "id": "UM_0-nklR_9_"
      },
      "source": [
        "**Notes**: les chaînes de caractères peuvent s'écrire avec des guillemets simples ou doubles (d'autres formes existent). L'opération d'addition de chaînes est appelée *concaténation*.\n",
        "\n",
        "2. Dans la cellule précédente, ajoutez un espace entre `hello` et `world` sans modifier les variables."
      ]
    },
    {
      "cell_type": "markdown",
      "metadata": {
        "id": "-igNMt_7R_-C"
      },
      "source": [
        "3. Avant d'afficher le résultat, prédire ce que valent `a * 3` et `(a + b) * 2`?"
      ]
    },
    {
      "cell_type": "code",
      "metadata": {
        "tags": [],
        "id": "OcmaKtiaR_-D"
      },
      "source": [
        "(a + b) * 2)"
      ],
      "execution_count": 19,
      "outputs": []
    },
    {
      "cell_type": "markdown",
      "metadata": {
        "id": "bQmZlv19R_-D"
      },
      "source": [
        "4. On peut appliquer des *méthodes* (ce sont des fonctions qui s'appliquent à un certain type d'objets) à une chaîne de caractères. Par exemple tester ce que vaut `a.upper()`."
      ]
    },
    {
      "cell_type": "code",
      "metadata": {
        "colab": {
          "base_uri": "https://localhost:8080/"
        },
        "id": "D3dIwcCqR_-D",
        "outputId": "0d189a9b-4824-4195-d9ba-57829f63de65"
      },
      "source": [
        "print(a.upper())"
      ],
      "execution_count": 56,
      "outputs": [
        {
          "output_type": "stream",
          "name": "stdout",
          "text": [
            "HELLO\n"
          ]
        }
      ]
    },
    {
      "cell_type": "markdown",
      "metadata": {
        "id": "tHTlLXBoR_-E"
      },
      "source": [
        "Vous pouvez voir la liste des méthodes associées aux chaînes de caractères (ainsi que sur les autres types natifs) sur [cette page](https://docs.python.org/fr/3/library/stdtypes.html#string-methods).\n",
        "\n",
        "5. La variable `a` a-t'elle été modifiée?"
      ]
    },
    {
      "cell_type": "code",
      "metadata": {
        "colab": {
          "base_uri": "https://localhost:8080/",
          "height": 35
        },
        "id": "rVelY-VwR_-E",
        "outputId": "1abb173c-991f-41ef-c4cc-c5a21e5ba86d"
      },
      "source": [
        "a"
      ],
      "execution_count": 58,
      "outputs": [
        {
          "output_type": "execute_result",
          "data": {
            "application/vnd.google.colaboratory.intrinsic+json": {
              "type": "string"
            },
            "text/plain": [
              "'hello'"
            ]
          },
          "metadata": {},
          "execution_count": 58
        }
      ]
    },
    {
      "cell_type": "markdown",
      "metadata": {
        "id": "pf3a9TfmR_-E"
      },
      "source": [
        "6. Que vaut `a > b`?"
      ]
    },
    {
      "cell_type": "code",
      "metadata": {
        "tags": [],
        "colab": {
          "base_uri": "https://localhost:8080/"
        },
        "id": "CAqCp887R_-F",
        "outputId": "d9462076-534d-4d21-a8aa-90a00c595f09"
      },
      "source": [
        "a>b"
      ],
      "execution_count": 57,
      "outputs": [
        {
          "output_type": "execute_result",
          "data": {
            "text/plain": [
              "False"
            ]
          },
          "metadata": {},
          "execution_count": 57
        }
      ]
    },
    {
      "cell_type": "markdown",
      "metadata": {
        "id": "ME-4dEu5R_-F"
      },
      "source": [
        "7. Quelle est la signification de cette comparaison?"
      ]
    },
    {
      "cell_type": "markdown",
      "metadata": {
        "id": "5jMbhf1ZR_-K"
      },
      "source": [
        "### 3.4 Conversions"
      ]
    },
    {
      "cell_type": "markdown",
      "metadata": {
        "id": "CNYi8dyiR_-K"
      },
      "source": [
        "1. Dans la cellule de code suivante, devinez ce que vaut `a * 2` avant de l'afficher."
      ]
    },
    {
      "cell_type": "code",
      "metadata": {
        "tags": [],
        "colab": {
          "base_uri": "https://localhost:8080/"
        },
        "id": "QSzZDxwCR_-L",
        "outputId": "78bb021c-8932-4ff6-b72c-ac8df3de06c7"
      },
      "source": [
        "a = \"32\"\n",
        "print(a*2)"
      ],
      "execution_count": 59,
      "outputs": [
        {
          "output_type": "stream",
          "name": "stdout",
          "text": [
            "3232\n"
          ]
        }
      ]
    },
    {
      "cell_type": "markdown",
      "metadata": {
        "id": "kIglVG1JR_-L"
      },
      "source": [
        "2. Utilisez la fonction de conversion `int()` pour obtenir le résultat de la multiplication de nombres entiers (64 ici)."
      ]
    },
    {
      "cell_type": "code",
      "metadata": {
        "colab": {
          "base_uri": "https://localhost:8080/"
        },
        "id": "tkeMyMiRb3cd",
        "outputId": "099839fc-1688-4459-9c72-c16ca432bbc4"
      },
      "source": [
        "print(int(a)*2)"
      ],
      "execution_count": 60,
      "outputs": [
        {
          "output_type": "stream",
          "name": "stdout",
          "text": [
            "64\n"
          ]
        }
      ]
    },
    {
      "cell_type": "code",
      "metadata": {
        "tags": [],
        "id": "28kNvMc-R_-M"
      },
      "source": [
        ""
      ],
      "execution_count": 61,
      "outputs": []
    },
    {
      "cell_type": "markdown",
      "metadata": {
        "id": "nSt6i9ixR_-M"
      },
      "source": [
        "3. Ecrivez l'expression `s = input(\"Tape quelquechose au clavier\")` puis affichez `s`. Que se passe-t'il?"
      ]
    },
    {
      "cell_type": "code",
      "metadata": {
        "tags": [],
        "id": "gqTxbxxfR_-M"
      },
      "source": [
        " s= input(\"Tape quelquechose au clavier\")\n",
        " print(s)"
      ],
      "execution_count": 20,
      "outputs": []
    },
    {
      "cell_type": "markdown",
      "metadata": {
        "id": "7lMEnmvSR_-N"
      },
      "source": [
        "4. Recopiez le code de la cellule précédente. L'utilisateur doit saisir un nombre entier puis vous affichez ce nombre multiplié par 2."
      ]
    },
    {
      "cell_type": "code",
      "metadata": {
        "tags": [],
        "id": "le6BPBhqR_-N"
      },
      "source": [
        " s= input(\"Tape un nombre entier\")\n",
        " print(int(s)*2)"
      ],
      "execution_count": 20,
      "outputs": []
    },
    {
      "cell_type": "markdown",
      "metadata": {
        "id": "LuO5vJcWR_-N"
      },
      "source": [
        "5. ́Ecrivez le code qui demande son âge à l’utilisateur et répond en utilisant sa réponse au milieu d’une phrase, comme par exemple en lui donnant l’âge qu’il aura en 2031 le même jour."
      ]
    },
    {
      "cell_type": "code",
      "metadata": {
        "tags": [],
        "colab": {
          "base_uri": "https://localhost:8080/"
        },
        "id": "AFQyg0PJR_-O",
        "outputId": "3c05eeaf-bbd9-482b-a734-dbcf89d25376"
      },
      "source": [
        " s= input(\"Taper votre age \")\n",
        " print(\"en 2031 vous aurez\",int(s)+10,\"ans\")"
      ],
      "execution_count": 62,
      "outputs": [
        {
          "output_type": "stream",
          "name": "stdout",
          "text": [
            "Taper votre age1\n",
            "en 2031 vous aurez 11\n"
          ]
        }
      ]
    },
    {
      "cell_type": "markdown",
      "metadata": {
        "id": "oRe-mJzFR_-O"
      },
      "source": [
        "6. Avant de passer à la suite, sauvegardez votre notebook sur github."
      ]
    },
    {
      "cell_type": "markdown",
      "metadata": {
        "id": "fMl-3WENR_-O"
      },
      "source": [
        "---\n",
        "## Exercices supplémentaires"
      ]
    },
    {
      "cell_type": "markdown",
      "metadata": {
        "tags": [],
        "id": "R1V31MdpR_-P"
      },
      "source": [
        "1. Parmi les chaînes de caractères suivantes, lesquelles peuvent être des noms de variable?\n",
        "* `f`\n",
        "* `l`\n",
        "* `f2`\n",
        "* `2f`\n",
        "* `totolehero`\n",
        "* `toto_le_hero`\n",
        "* `import`\n",
        "* `toto2-le-retour`\n",
        "\n",
        "Et parmi les noms corrects, lesquels ne sont pas recommandés (voir la [PEP8](https://www.python.org/dev/peps/pep-0008/#naming-conventions))?\n"
      ]
    },
    {
      "cell_type": "markdown",
      "metadata": {
        "id": "OMZ2ppHJR_-P"
      },
      "source": [
        "2. Demandez à l'utilisateur de rentrer un nombre, puis afficher sa racine carrée en faisant une phrase."
      ]
    },
    {
      "cell_type": "code",
      "metadata": {
        "tags": [],
        "id": "WdRf7Ft2R_-S"
      },
      "source": [
        ""
      ],
      "execution_count": 20,
      "outputs": []
    },
    {
      "cell_type": "markdown",
      "metadata": {
        "id": "SUY9EdCNR_-S"
      },
      "source": [
        "3. Ecrivez le code qui affiche:\n",
        "* la chaı̂ne ”aaaaaa...” (250 ”a”)\n",
        "* la chaı̂ne ”bbbb....a” (250 ”b” suivis d’un ”a”)\n",
        "* la chaı̂ne ”bbbb....aaabbb...” (250 ”b” suivis d’un ”a” suivi de 100 b)\n",
        "* 50 fois ”bonjour” en allant à la ligne à chaque fois (utilisez ”\\n”)\n"
      ]
    },
    {
      "cell_type": "code",
      "metadata": {
        "tags": [],
        "id": "2qwcSSqiR_-T"
      },
      "source": [
        ""
      ],
      "execution_count": 20,
      "outputs": []
    }
  ]
}